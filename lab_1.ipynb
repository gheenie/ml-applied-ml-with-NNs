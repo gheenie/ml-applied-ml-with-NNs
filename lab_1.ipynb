{
  "nbformat": 4,
  "nbformat_minor": 0,
  "metadata": {
    "colab": {
      "provenance": [],
      "authorship_tag": "ABX9TyM9hSt/WO2e1sckBwZ00+e9",
      "include_colab_link": true
    },
    "kernelspec": {
      "name": "python3",
      "display_name": "Python 3"
    },
    "language_info": {
      "name": "python"
    }
  },
  "cells": [
    {
      "cell_type": "markdown",
      "metadata": {
        "id": "view-in-github",
        "colab_type": "text"
      },
      "source": [
        "<a href=\"https://colab.research.google.com/github/gheenie/msc-applied-ml/blob/main/lab_1.ipynb\" target=\"_parent\"><img src=\"https://colab.research.google.com/assets/colab-badge.svg\" alt=\"Open In Colab\"/></a>"
      ]
    },
    {
      "cell_type": "code",
      "source": [
        "import os\n",
        "import csv\n",
        "\n",
        "from google.colab import drive\n",
        "import numpy\n",
        "from numpy import loadtxt\n",
        "# from urllib import urlopen\n",
        "from pandas import read_csv\n",
        "from pandas import set_option\n"
      ],
      "metadata": {
        "id": "eArvgqGpLsRe"
      },
      "execution_count": 13,
      "outputs": []
    },
    {
      "cell_type": "code",
      "source": [
        "# Mount location\n",
        "drive.mount('/content/drive')\n",
        "\n",
        "# Change working dir\n",
        "os.chdir('drive/Colab Notebooks')\n"
      ],
      "metadata": {
        "id": "-3a5VjGFGr8p"
      },
      "execution_count": null,
      "outputs": []
    },
    {
      "cell_type": "markdown",
      "source": [
        "# Load data"
      ],
      "metadata": {
        "id": "XTQZt2UcKfyG"
      }
    },
    {
      "cell_type": "code",
      "execution_count": null,
      "metadata": {
        "id": "57LggRch-e0-"
      },
      "outputs": [],
      "source": [
        "# Load CSV Using Python Standard Library\n",
        "\n",
        "filename = 'pima-indians-diabetes.data.csv'\n",
        "raw_data = open(filename, 'rt')\n",
        "reader = csv.reader(raw_data, delimiter=',', quoting=csv.QUOTE_NONE)\n",
        "x = list(reader)\n",
        "data = numpy.array(x).astype('float')\n",
        "print(data.shape)\n"
      ]
    },
    {
      "cell_type": "code",
      "source": [
        "# Load CSV using NumPy\n",
        "\n",
        "filename = 'pima-indians-diabetes.data.csv'\n",
        "raw_data = open(filename, 'rt')\n",
        "data = loadtxt(raw_data, delimiter=\",\")\n",
        "print(data.shape)\n"
      ],
      "metadata": {
        "id": "WiF-RPLiI4Km"
      },
      "execution_count": null,
      "outputs": []
    },
    {
      "cell_type": "code",
      "source": [
        "# Load CSV from URL using NumPy\n",
        "\n",
        "url = 'https://goo.gl/XXXXX'\n",
        "raw_data = urlopen(url)\n",
        "dataset = loadtxt(raw_data, delimiter=\",\")\n",
        "print(dataset.shape)\n"
      ],
      "metadata": {
        "id": "Fy4H-EZ-JhV1"
      },
      "execution_count": null,
      "outputs": []
    },
    {
      "cell_type": "code",
      "source": [
        "# Load CSV using Pandas\n",
        "\n",
        "filename = 'pima-indians-diabetes.data.csv'\n",
        "names = ['preg', 'plas', 'pres', 'skin', 'test', 'mass', 'pedi', 'age', 'class']\n",
        "data = read_csv(filename, names=names)\n",
        "print(data.shape)\n"
      ],
      "metadata": {
        "id": "WzZ8rWNIKaw7"
      },
      "execution_count": null,
      "outputs": []
    },
    {
      "cell_type": "code",
      "source": [
        "# Load CSV using Pandas from URL\n",
        "\n",
        "url = 'https://goo.gl/XXXXXXX'\n",
        "names = ['preg', 'plas', 'pres', 'skin', 'test', 'mass', 'pedi', 'age', 'class']\n",
        "data = read_csv(url, names=names)\n",
        "print(data.shape)\n"
      ],
      "metadata": {
        "id": "rs89yhlHLHbo"
      },
      "execution_count": null,
      "outputs": []
    },
    {
      "cell_type": "markdown",
      "source": [
        "# Descriptive statistics"
      ],
      "metadata": {
        "id": "uoR6YUvoNRp1"
      }
    },
    {
      "cell_type": "code",
      "source": [
        "filename = \"pima-indians-diabetes.data.csv\"\n",
        "names = ['preg', 'plas', 'pres', 'skin', 'test', 'mass', 'pedi', 'age', 'class']\n",
        "data = read_csv(filename, names=names)\n",
        "\n",
        "# Inspect data\n",
        "\n",
        "# First few rows\n",
        "peek = data.head(20)\n",
        "print(peek)\n",
        "# Data types\n",
        "types = data.dtypes\n",
        "print(types)\n",
        "\n",
        "# Review data dimensions\n",
        "# Too many rows or too many features?\n",
        "\n",
        "shape = data.shape\n",
        "print(shape)\n",
        "\n",
        "# Descriptive stats\n",
        "\n",
        "set_option('display.width', 100)\n",
        "set_option('display.precision', 3)\n",
        "description = data.describe()\n",
        "print(description)\n",
        "\n",
        "# Class distributions (for classification probs)\n",
        "\n",
        "class_counts = data.groupby('class').size()\n",
        "print(class_counts)\n",
        "\n",
        "# Pairwise Pearson correlations\n",
        "\n",
        "correlations = data.corr(method='pearson')\n",
        "print(correlations)\n"
      ],
      "metadata": {
        "id": "jlV2q4QRNTWQ",
        "outputId": "9649e5be-c02c-4a48-af14-fd3b4502bcba",
        "colab": {
          "base_uri": "https://localhost:8080/"
        }
      },
      "execution_count": 14,
      "outputs": [
        {
          "output_type": "stream",
          "name": "stdout",
          "text": [
            "    preg  plas  pres  skin  test  mass   pedi  age  class\n",
            "0      6   148    72    35     0  33.6  0.627   50      1\n",
            "1      1    85    66    29     0  26.6  0.351   31      0\n",
            "2      8   183    64     0     0  23.3  0.672   32      1\n",
            "3      1    89    66    23    94  28.1  0.167   21      0\n",
            "4      0   137    40    35   168  43.1  2.288   33      1\n",
            "5      5   116    74     0     0  25.6  0.201   30      0\n",
            "6      3    78    50    32    88  31.0  0.248   26      1\n",
            "7     10   115     0     0     0  35.3  0.134   29      0\n",
            "8      2   197    70    45   543  30.5  0.158   53      1\n",
            "9      8   125    96     0     0   0.0  0.232   54      1\n",
            "10     4   110    92     0     0  37.6  0.191   30      0\n",
            "11    10   168    74     0     0  38.0  0.537   34      1\n",
            "12    10   139    80     0     0  27.1  1.441   57      0\n",
            "13     1   189    60    23   846  30.1  0.398   59      1\n",
            "14     5   166    72    19   175  25.8  0.587   51      1\n",
            "15     7   100     0     0     0  30.0  0.484   32      1\n",
            "16     0   118    84    47   230  45.8  0.551   31      1\n",
            "17     7   107    74     0     0  29.6  0.254   31      1\n",
            "18     1   103    30    38    83  43.3  0.183   33      0\n",
            "19     1   115    70    30    96  34.6  0.529   32      1\n",
            "preg       int64\n",
            "plas       int64\n",
            "pres       int64\n",
            "skin       int64\n",
            "test       int64\n",
            "mass     float64\n",
            "pedi     float64\n",
            "age        int64\n",
            "class      int64\n",
            "dtype: object\n",
            "(768, 9)\n",
            "          preg     plas     pres     skin     test     mass     pedi      age    class\n",
            "count  768.000  768.000  768.000  768.000  768.000  768.000  768.000  768.000  768.000\n",
            "mean     3.845  120.895   69.105   20.536   79.799   31.993    0.472   33.241    0.349\n",
            "std      3.370   31.973   19.356   15.952  115.244    7.884    0.331   11.760    0.477\n",
            "min      0.000    0.000    0.000    0.000    0.000    0.000    0.078   21.000    0.000\n",
            "25%      1.000   99.000   62.000    0.000    0.000   27.300    0.244   24.000    0.000\n",
            "50%      3.000  117.000   72.000   23.000   30.500   32.000    0.372   29.000    0.000\n",
            "75%      6.000  140.250   80.000   32.000  127.250   36.600    0.626   41.000    1.000\n",
            "max     17.000  199.000  122.000   99.000  846.000   67.100    2.420   81.000    1.000\n"
          ]
        }
      ]
    },
    {
      "cell_type": "code",
      "source": [
        "drive.flush_and_unmount()"
      ],
      "metadata": {
        "id": "MwOGFs_VG3JW"
      },
      "execution_count": null,
      "outputs": []
    }
  ]
}